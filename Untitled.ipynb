{
 "cells": [
  {
   "cell_type": "code",
   "execution_count": 1,
   "id": "8682d9fd",
   "metadata": {},
   "outputs": [],
   "source": [
    "import json\n",
    "import requests\n",
    "import pandas as pd"
   ]
  },
  {
   "cell_type": "code",
   "execution_count": 2,
   "id": "95b9af4e",
   "metadata": {},
   "outputs": [],
   "source": [
    "params = {\n",
    "    'login': 'ionesantos',\n",
    "    'senha': '2022Power'\n",
    "}\n",
    "\n",
    "url = \"https://webfleet.pointerbrasil.com.br/FleetAPI/api\""
   ]
  },
  {
   "cell_type": "code",
   "execution_count": 3,
   "id": "1b00084f",
   "metadata": {},
   "outputs": [
    {
     "name": "stderr",
     "output_type": "stream",
     "text": [
      "C:\\Users\\MarkosPereira.exc\\Anaconda3\\lib\\site-packages\\urllib3\\connectionpool.py:1045: InsecureRequestWarning: Unverified HTTPS request is being made to host 'webfleet.pointerbrasil.com.br'. Adding certificate verification is strongly advised. See: https://urllib3.readthedocs.io/en/1.26.x/advanced-usage.html#ssl-warnings\n",
      "  warnings.warn(\n"
     ]
    },
    {
     "name": "stdout",
     "output_type": "stream",
     "text": [
      "{'Server': 'rhino-core-shield', 'Date': 'Wed, 20 Sep 2023 12:30:13 GMT', 'Content-Type': 'application/json; charset=utf-8', 'Cache-Control': 'public, must-revalidate, max-age=1', 'Set-Cookie': 'ASP.NET_SessionId=nkayk14gwzdeqm4keufn41hh; path=/; HttpOnly; SameSite=Lax, GCLB=CL6r9q-237n9Xw; path=/; HttpOnly', 'X-AspNet-Version': '4.0.30319', 'X-Powered-By': 'ASP.NET', 'Via': '1.1 google', 'Alt-Svc': 'clear', 'Content-Length': '78'}\n",
      "{'Version': '1.0.61.0', 'StatusCode': 200, 'Result': {'Token': '97823030520000039'}}\n",
      "https://webfleet.pointerbrasil.com.br/FleetAPI/api/Login/Get?username=ionesantos&password=2022Power\n"
     ]
    }
   ],
   "source": [
    "url = f\"https://webfleet.pointerbrasil.com.br/FleetAPI/api/Login/Get?username={params['login']}&password={params['senha']}\"\n",
    "x = requests.get(url, verify=False)\n",
    "print(x.headers)\n",
    "y = x.json()\n",
    "print(y)\n",
    "print(url)"
   ]
  },
  {
   "cell_type": "code",
   "execution_count": 4,
   "id": "0a8c2256",
   "metadata": {},
   "outputs": [
    {
     "name": "stdout",
     "output_type": "stream",
     "text": [
      "97823030520000039\n"
     ]
    }
   ],
   "source": [
    "token = y['Result']['Token']\n",
    "print(token)"
   ]
  },
  {
   "cell_type": "markdown",
   "id": "82ab6f28",
   "metadata": {},
   "source": [
    "## Get Acounts"
   ]
  },
  {
   "cell_type": "code",
   "execution_count": 5,
   "id": "220e1aa8",
   "metadata": {},
   "outputs": [
    {
     "name": "stderr",
     "output_type": "stream",
     "text": [
      "C:\\Users\\MarkosPereira.exc\\Anaconda3\\lib\\site-packages\\urllib3\\connectionpool.py:1045: InsecureRequestWarning: Unverified HTTPS request is being made to host 'webfleet.pointerbrasil.com.br'. Adding certificate verification is strongly advised. See: https://urllib3.readthedocs.io/en/1.26.x/advanced-usage.html#ssl-warnings\n",
      "  warnings.warn(\n"
     ]
    },
    {
     "name": "stdout",
     "output_type": "stream",
     "text": [
      "{'Server': 'rhino-core-shield', 'Date': 'Wed, 20 Sep 2023 12:30:17 GMT', 'Content-Type': 'application/json; charset=utf-8', 'Cache-Control': 'no-cache', 'Pragma': 'no-cache', 'Expires': '-1', 'Set-Cookie': 'ASP.NET_SessionId=rjtvcamutsbrs2kmswz3vnzx; path=/; HttpOnly; SameSite=Lax, GCLB=CO6R8PLAr_CctAE; path=/; HttpOnly', 'X-AspNet-Version': '4.0.30319', 'X-Powered-By': 'ASP.NET', 'Via': '1.1 google', 'Alt-Svc': 'clear', 'Content-Length': '812'}\n",
      "https://webfleet.pointerbrasil.com.br/FleetAPI/api/Account/GetAccounts?key=97823030520000039\n",
      "{'Version': '1.0.61.0', 'StatusCode': 200, 'Result': {'Accounts': [{'Id': 22699, 'ExternalId': 0, 'Name': '16.Suzano'}, {'Id': 22701, 'ExternalId': 0, 'Name': 'Aracruz'}, {'Id': 25311, 'ExternalId': 0, 'Name': 'Bruno Vital'}, {'Id': 22702, 'ExternalId': 0, 'Name': 'Imperatriz'}, {'Id': 22704, 'ExternalId': 0, 'Name': 'Jacareí'}, {'Id': 26950, 'ExternalId': 0, 'Name': 'Jonathan Delgadinho de Oliveira'}, {'Id': 22976, 'ExternalId': 0, 'Name': 'Limeira'}, {'Id': 22703, 'ExternalId': 0, 'Name': 'Mucuri'}, {'Id': 25761, 'ExternalId': 0, 'Name': 'OSMAR MEIRELES'}, {'Id': 24369, 'ExternalId': 0, 'Name': 'Piloto APP'}, {'Id': 25692, 'ExternalId': 0, 'Name': 'RAFAEL SILVA'}, {'Id': 25114, 'ExternalId': 0, 'Name': 'Ribas do Rio Pardo'}, {'Id': 25366, 'ExternalId': 0, 'Name': 'Segurança Cerrado'}, {'Id': 22705, 'ExternalId': 0, 'Name': 'Suzano'}, {'Id': 22700, 'ExternalId': 0, 'Name': 'Três Lagoas'}]}}\n"
     ]
    }
   ],
   "source": [
    "url = f\"https://webfleet.pointerbrasil.com.br/FleetAPI/api/Account/GetAccounts?key={token}\"\n",
    "\n",
    "x = requests.get(url, verify=False)\n",
    "print(x.headers)\n",
    "print(url)\n",
    "y = x.json()\n",
    "print(y)"
   ]
  },
  {
   "cell_type": "code",
   "execution_count": null,
   "id": "0ea7cab8",
   "metadata": {},
   "outputs": [],
   "source": []
  },
  {
   "cell_type": "code",
   "execution_count": 6,
   "id": "6f92e0e7",
   "metadata": {},
   "outputs": [
    {
     "data": {
      "text/html": [
       "<div>\n",
       "<style scoped>\n",
       "    .dataframe tbody tr th:only-of-type {\n",
       "        vertical-align: middle;\n",
       "    }\n",
       "\n",
       "    .dataframe tbody tr th {\n",
       "        vertical-align: top;\n",
       "    }\n",
       "\n",
       "    .dataframe thead th {\n",
       "        text-align: right;\n",
       "    }\n",
       "</style>\n",
       "<table border=\"1\" class=\"dataframe\">\n",
       "  <thead>\n",
       "    <tr style=\"text-align: right;\">\n",
       "      <th></th>\n",
       "      <th>Id</th>\n",
       "      <th>ExternalId</th>\n",
       "      <th>Name</th>\n",
       "    </tr>\n",
       "  </thead>\n",
       "  <tbody>\n",
       "    <tr>\n",
       "      <th>0</th>\n",
       "      <td>22699</td>\n",
       "      <td>0</td>\n",
       "      <td>16.Suzano</td>\n",
       "    </tr>\n",
       "    <tr>\n",
       "      <th>1</th>\n",
       "      <td>22701</td>\n",
       "      <td>0</td>\n",
       "      <td>Aracruz</td>\n",
       "    </tr>\n",
       "    <tr>\n",
       "      <th>2</th>\n",
       "      <td>25311</td>\n",
       "      <td>0</td>\n",
       "      <td>Bruno Vital</td>\n",
       "    </tr>\n",
       "    <tr>\n",
       "      <th>3</th>\n",
       "      <td>22702</td>\n",
       "      <td>0</td>\n",
       "      <td>Imperatriz</td>\n",
       "    </tr>\n",
       "    <tr>\n",
       "      <th>4</th>\n",
       "      <td>22704</td>\n",
       "      <td>0</td>\n",
       "      <td>Jacareí</td>\n",
       "    </tr>\n",
       "    <tr>\n",
       "      <th>5</th>\n",
       "      <td>26950</td>\n",
       "      <td>0</td>\n",
       "      <td>Jonathan Delgadinho de Oliveira</td>\n",
       "    </tr>\n",
       "    <tr>\n",
       "      <th>6</th>\n",
       "      <td>22976</td>\n",
       "      <td>0</td>\n",
       "      <td>Limeira</td>\n",
       "    </tr>\n",
       "    <tr>\n",
       "      <th>7</th>\n",
       "      <td>22703</td>\n",
       "      <td>0</td>\n",
       "      <td>Mucuri</td>\n",
       "    </tr>\n",
       "    <tr>\n",
       "      <th>8</th>\n",
       "      <td>25761</td>\n",
       "      <td>0</td>\n",
       "      <td>OSMAR MEIRELES</td>\n",
       "    </tr>\n",
       "    <tr>\n",
       "      <th>9</th>\n",
       "      <td>24369</td>\n",
       "      <td>0</td>\n",
       "      <td>Piloto APP</td>\n",
       "    </tr>\n",
       "    <tr>\n",
       "      <th>10</th>\n",
       "      <td>25692</td>\n",
       "      <td>0</td>\n",
       "      <td>RAFAEL SILVA</td>\n",
       "    </tr>\n",
       "    <tr>\n",
       "      <th>11</th>\n",
       "      <td>25114</td>\n",
       "      <td>0</td>\n",
       "      <td>Ribas do Rio Pardo</td>\n",
       "    </tr>\n",
       "    <tr>\n",
       "      <th>12</th>\n",
       "      <td>25366</td>\n",
       "      <td>0</td>\n",
       "      <td>Segurança Cerrado</td>\n",
       "    </tr>\n",
       "    <tr>\n",
       "      <th>13</th>\n",
       "      <td>22705</td>\n",
       "      <td>0</td>\n",
       "      <td>Suzano</td>\n",
       "    </tr>\n",
       "    <tr>\n",
       "      <th>14</th>\n",
       "      <td>22700</td>\n",
       "      <td>0</td>\n",
       "      <td>Três Lagoas</td>\n",
       "    </tr>\n",
       "  </tbody>\n",
       "</table>\n",
       "</div>"
      ],
      "text/plain": [
       "       Id  ExternalId                             Name\n",
       "0   22699           0                        16.Suzano\n",
       "1   22701           0                          Aracruz\n",
       "2   25311           0                      Bruno Vital\n",
       "3   22702           0                       Imperatriz\n",
       "4   22704           0                          Jacareí\n",
       "5   26950           0  Jonathan Delgadinho de Oliveira\n",
       "6   22976           0                          Limeira\n",
       "7   22703           0                           Mucuri\n",
       "8   25761           0                   OSMAR MEIRELES\n",
       "9   24369           0                       Piloto APP\n",
       "10  25692           0                     RAFAEL SILVA\n",
       "11  25114           0               Ribas do Rio Pardo\n",
       "12  25366           0                Segurança Cerrado\n",
       "13  22705           0                           Suzano\n",
       "14  22700           0                      Três Lagoas"
      ]
     },
     "execution_count": 6,
     "metadata": {},
     "output_type": "execute_result"
    }
   ],
   "source": [
    "ids = list()\n",
    "external_id = list()\n",
    "name = list()\n",
    "\n",
    "values = y['Result']['Accounts']\n",
    "\n",
    "\n",
    "for value in values:\n",
    "    ids.append(value['Id'])\n",
    "    external_id.append(value['ExternalId'])\n",
    "    name.append(value['Name'])\n",
    "\n",
    "\n",
    "get_acount = pd.DataFrame({'Id': ids, 'ExternalId': external_id, 'Name': name})\n",
    "\n",
    "\n",
    "get_acount"
   ]
  },
  {
   "cell_type": "markdown",
   "id": "2bf9cb5a",
   "metadata": {},
   "source": [
    "## Get Acount"
   ]
  },
  {
   "cell_type": "code",
   "execution_count": 8,
   "id": "35ab7485",
   "metadata": {},
   "outputs": [
    {
     "name": "stderr",
     "output_type": "stream",
     "text": [
      "C:\\Users\\MarkosPereira.exc\\Anaconda3\\lib\\site-packages\\urllib3\\connectionpool.py:1045: InsecureRequestWarning: Unverified HTTPS request is being made to host 'webfleet.pointerbrasil.com.br'. Adding certificate verification is strongly advised. See: https://urllib3.readthedocs.io/en/1.26.x/advanced-usage.html#ssl-warnings\n",
      "  warnings.warn(\n"
     ]
    },
    {
     "name": "stdout",
     "output_type": "stream",
     "text": [
      "{'Server': 'rhino-core-shield', 'Date': 'Wed, 20 Sep 2023 12:30:30 GMT', 'Content-Type': 'application/json; charset=utf-8', 'Cache-Control': 'no-cache', 'Pragma': 'no-cache', 'Expires': '-1', 'Set-Cookie': 'ASP.NET_SessionId=cv0ftq12fusvmjksailonpxk; path=/; HttpOnly; SameSite=Lax, GCLB=CM2i5cr68KHScw; path=/; HttpOnly', 'X-AspNet-Version': '4.0.30319', 'X-Powered-By': 'ASP.NET', 'Via': '1.1 google', 'Alt-Svc': 'clear', 'Content-Length': '207'}\n",
      "https://webfleet.pointerbrasil.com.br/FleetAPI/api/Account/GetAccount?key=97823030520000039\n",
      "{'Version': '1.0.61.0', 'StatusCode': 404, 'ErrorMessage': \"No HTTP resource was found that matches the request URI 'https://webfleet.pointerbrasil.com.br/FleetAPI/api/Account/GetAccount?key=97823030520000039'.\"}\n"
     ]
    }
   ],
   "source": [
    "url = f\"https://webfleet.pointerbrasil.com.br/FleetAPI/api/Account/GetAccount?key={token}\"\n",
    "\n",
    "x = requests.get(url, verify=False)\n",
    "print(x.headers)\n",
    "print(url)\n",
    "y = x.json()\n",
    "print(y)"
   ]
  },
  {
   "cell_type": "markdown",
   "id": "af3c7a38",
   "metadata": {},
   "source": [
    "## Get Subcount"
   ]
  },
  {
   "cell_type": "code",
   "execution_count": 9,
   "id": "6f621994",
   "metadata": {},
   "outputs": [
    {
     "name": "stderr",
     "output_type": "stream",
     "text": [
      "C:\\Users\\MarkosPereira.exc\\Anaconda3\\lib\\site-packages\\urllib3\\connectionpool.py:1045: InsecureRequestWarning: Unverified HTTPS request is being made to host 'webfleet.pointerbrasil.com.br'. Adding certificate verification is strongly advised. See: https://urllib3.readthedocs.io/en/1.26.x/advanced-usage.html#ssl-warnings\n",
      "  warnings.warn(\n"
     ]
    },
    {
     "name": "stdout",
     "output_type": "stream",
     "text": [
      "{'Server': 'rhino-core-shield', 'Date': 'Wed, 20 Sep 2023 12:30:32 GMT', 'Content-Type': 'application/json; charset=utf-8', 'Cache-Control': 'no-cache', 'Pragma': 'no-cache', 'Expires': '-1', 'Set-Cookie': 'ASP.NET_SessionId=qddwclvonvld4mimhhbfhi1l; path=/; HttpOnly; SameSite=Lax, GCLB=CN-2su7k9_Hi0gE; path=/; HttpOnly', 'X-AspNet-Version': '4.0.30319', 'X-Powered-By': 'ASP.NET', 'Via': '1.1 google', 'Alt-Svc': 'clear', 'Content-Length': '210'}\n",
      "https://webfleet.pointerbrasil.com.br/FleetAPI/api/Account/GetSubaccount?key=97823030520000039\n",
      "{'Version': '1.0.61.0', 'StatusCode': 404, 'ErrorMessage': \"No HTTP resource was found that matches the request URI 'https://webfleet.pointerbrasil.com.br/FleetAPI/api/Account/GetSubaccount?key=97823030520000039'.\"}\n"
     ]
    }
   ],
   "source": [
    "url = f\"https://webfleet.pointerbrasil.com.br/FleetAPI/api/Account/GetSubaccount?key={token}\"\n",
    "\n",
    "x = requests.get(url, verify=False)\n",
    "print(x.headers)\n",
    "print(url)\n",
    "y = x.json()\n",
    "print(y)"
   ]
  },
  {
   "cell_type": "markdown",
   "id": "69cf75e4",
   "metadata": {},
   "source": [
    "## Get veicle group"
   ]
  },
  {
   "cell_type": "code",
   "execution_count": 10,
   "id": "7763dd9c",
   "metadata": {},
   "outputs": [
    {
     "name": "stderr",
     "output_type": "stream",
     "text": [
      "C:\\Users\\MarkosPereira.exc\\Anaconda3\\lib\\site-packages\\urllib3\\connectionpool.py:1045: InsecureRequestWarning: Unverified HTTPS request is being made to host 'webfleet.pointerbrasil.com.br'. Adding certificate verification is strongly advised. See: https://urllib3.readthedocs.io/en/1.26.x/advanced-usage.html#ssl-warnings\n",
      "  warnings.warn(\n"
     ]
    },
    {
     "name": "stdout",
     "output_type": "stream",
     "text": [
      "{'Server': 'rhino-core-shield', 'Date': 'Wed, 20 Sep 2023 12:30:41 GMT', 'Content-Type': 'application/json; charset=utf-8', 'Cache-Control': 'no-cache', 'Pragma': 'no-cache', 'Expires': '-1', 'Set-Cookie': 'ASP.NET_SessionId=urjksdgsg31xpn13wti325nt; path=/; HttpOnly; SameSite=Lax, GCLB=CKnMp72OpPHreA; path=/; HttpOnly', 'X-AspNet-Version': '4.0.30319', 'X-Powered-By': 'ASP.NET', 'Via': '1.1 google', 'Alt-Svc': 'clear', 'Content-Length': '1178'}\n",
      "https://webfleet.pointerbrasil.com.br/FleetAPI/api/Account/GetVehicleGroups?key=97823030520000039\n",
      "{'Version': '1.0.61.0', 'StatusCode': 200, 'Result': {'Groups': [{'Id': 150519, 'ExternalId': 0, 'Name': '01.Expresso Nepomuceno'}, {'Id': 153071, 'ExternalId': 0, 'Name': '15.ATGB - SISTEMAS'}, {'Id': 96846, 'ExternalId': 0, 'Name': '16. Suzano'}, {'Id': 171227, 'ExternalId': 0, 'Name': 'Default group'}, {'Id': 133167, 'ExternalId': 0, 'Name': 'Instituto Ecofuturo - Bertioga'}, {'Id': 121889, 'ExternalId': 0, 'Name': 'Operações comerciais'}, {'Id': 96352, 'ExternalId': 0, 'Name': 'Others'}, {'Id': 174848, 'ExternalId': 0, 'Name': 'UNIDADE  CACHOEIRO DE ITAPEMIRIM'}, {'Id': 174846, 'ExternalId': 0, 'Name': 'UNIDADE  INSTITUTO ECOFUTURO  BERTIOGA'}, {'Id': 174847, 'ExternalId': 0, 'Name': 'UNIDADE  ITAPETININGA'}, {'Id': 121887, 'ExternalId': 0, 'Name': 'Unidade Aracruz'}, {'Id': 123234, 'ExternalId': 0, 'Name': 'Unidade Cachoeirinha de Itaúna'}, {'Id': 97738, 'ExternalId': 0, 'Name': 'Unidade Imperatiz'}, {'Id': 120313, 'ExternalId': 0, 'Name': 'Unidade Jacareí'}, {'Id': 99168, 'ExternalId': 0, 'Name': 'Unidade Limeira'}, {'Id': 121886, 'ExternalId': 0, 'Name': 'Unidade Mucuri'}, {'Id': 130399, 'ExternalId': 0, 'Name': 'Unidade Ribas do Rio Pardo'}, {'Id': 120312, 'ExternalId': 0, 'Name': 'Unidade Suzano'}, {'Id': 121888, 'ExternalId': 0, 'Name': 'Unidade Três Lagoas'}]}}\n"
     ]
    }
   ],
   "source": [
    "url = f\"https://webfleet.pointerbrasil.com.br/FleetAPI/api/Account/GetVehicleGroups?key={token}\"\n",
    "\n",
    "x = requests.get(url, verify=False)\n",
    "print(x.headers)\n",
    "print(url)\n",
    "y = x.json()\n",
    "print(y)"
   ]
  },
  {
   "cell_type": "code",
   "execution_count": 14,
   "id": "cb3fa9c9",
   "metadata": {},
   "outputs": [
    {
     "data": {
      "text/html": [
       "<div>\n",
       "<style scoped>\n",
       "    .dataframe tbody tr th:only-of-type {\n",
       "        vertical-align: middle;\n",
       "    }\n",
       "\n",
       "    .dataframe tbody tr th {\n",
       "        vertical-align: top;\n",
       "    }\n",
       "\n",
       "    .dataframe thead th {\n",
       "        text-align: right;\n",
       "    }\n",
       "</style>\n",
       "<table border=\"1\" class=\"dataframe\">\n",
       "  <thead>\n",
       "    <tr style=\"text-align: right;\">\n",
       "      <th></th>\n",
       "      <th>Id</th>\n",
       "      <th>ExternalId</th>\n",
       "      <th>Name</th>\n",
       "    </tr>\n",
       "  </thead>\n",
       "  <tbody>\n",
       "    <tr>\n",
       "      <th>0</th>\n",
       "      <td>150519</td>\n",
       "      <td>0</td>\n",
       "      <td>01.Expresso Nepomuceno</td>\n",
       "    </tr>\n",
       "    <tr>\n",
       "      <th>1</th>\n",
       "      <td>153071</td>\n",
       "      <td>0</td>\n",
       "      <td>15.ATGB - SISTEMAS</td>\n",
       "    </tr>\n",
       "    <tr>\n",
       "      <th>2</th>\n",
       "      <td>96846</td>\n",
       "      <td>0</td>\n",
       "      <td>16. Suzano</td>\n",
       "    </tr>\n",
       "    <tr>\n",
       "      <th>3</th>\n",
       "      <td>171227</td>\n",
       "      <td>0</td>\n",
       "      <td>Default group</td>\n",
       "    </tr>\n",
       "    <tr>\n",
       "      <th>4</th>\n",
       "      <td>133167</td>\n",
       "      <td>0</td>\n",
       "      <td>Instituto Ecofuturo - Bertioga</td>\n",
       "    </tr>\n",
       "    <tr>\n",
       "      <th>5</th>\n",
       "      <td>121889</td>\n",
       "      <td>0</td>\n",
       "      <td>Operações comerciais</td>\n",
       "    </tr>\n",
       "    <tr>\n",
       "      <th>6</th>\n",
       "      <td>96352</td>\n",
       "      <td>0</td>\n",
       "      <td>Others</td>\n",
       "    </tr>\n",
       "    <tr>\n",
       "      <th>7</th>\n",
       "      <td>174848</td>\n",
       "      <td>0</td>\n",
       "      <td>UNIDADE  CACHOEIRO DE ITAPEMIRIM</td>\n",
       "    </tr>\n",
       "    <tr>\n",
       "      <th>8</th>\n",
       "      <td>174846</td>\n",
       "      <td>0</td>\n",
       "      <td>UNIDADE  INSTITUTO ECOFUTURO  BERTIOGA</td>\n",
       "    </tr>\n",
       "    <tr>\n",
       "      <th>9</th>\n",
       "      <td>174847</td>\n",
       "      <td>0</td>\n",
       "      <td>UNIDADE  ITAPETININGA</td>\n",
       "    </tr>\n",
       "    <tr>\n",
       "      <th>10</th>\n",
       "      <td>121887</td>\n",
       "      <td>0</td>\n",
       "      <td>Unidade Aracruz</td>\n",
       "    </tr>\n",
       "    <tr>\n",
       "      <th>11</th>\n",
       "      <td>123234</td>\n",
       "      <td>0</td>\n",
       "      <td>Unidade Cachoeirinha de Itaúna</td>\n",
       "    </tr>\n",
       "    <tr>\n",
       "      <th>12</th>\n",
       "      <td>97738</td>\n",
       "      <td>0</td>\n",
       "      <td>Unidade Imperatiz</td>\n",
       "    </tr>\n",
       "    <tr>\n",
       "      <th>13</th>\n",
       "      <td>120313</td>\n",
       "      <td>0</td>\n",
       "      <td>Unidade Jacareí</td>\n",
       "    </tr>\n",
       "    <tr>\n",
       "      <th>14</th>\n",
       "      <td>99168</td>\n",
       "      <td>0</td>\n",
       "      <td>Unidade Limeira</td>\n",
       "    </tr>\n",
       "    <tr>\n",
       "      <th>15</th>\n",
       "      <td>121886</td>\n",
       "      <td>0</td>\n",
       "      <td>Unidade Mucuri</td>\n",
       "    </tr>\n",
       "    <tr>\n",
       "      <th>16</th>\n",
       "      <td>130399</td>\n",
       "      <td>0</td>\n",
       "      <td>Unidade Ribas do Rio Pardo</td>\n",
       "    </tr>\n",
       "    <tr>\n",
       "      <th>17</th>\n",
       "      <td>120312</td>\n",
       "      <td>0</td>\n",
       "      <td>Unidade Suzano</td>\n",
       "    </tr>\n",
       "    <tr>\n",
       "      <th>18</th>\n",
       "      <td>121888</td>\n",
       "      <td>0</td>\n",
       "      <td>Unidade Três Lagoas</td>\n",
       "    </tr>\n",
       "  </tbody>\n",
       "</table>\n",
       "</div>"
      ],
      "text/plain": [
       "        Id  ExternalId                                    Name\n",
       "0   150519           0                  01.Expresso Nepomuceno\n",
       "1   153071           0                      15.ATGB - SISTEMAS\n",
       "2    96846           0                              16. Suzano\n",
       "3   171227           0                           Default group\n",
       "4   133167           0          Instituto Ecofuturo - Bertioga\n",
       "5   121889           0                    Operações comerciais\n",
       "6    96352           0                                  Others\n",
       "7   174848           0        UNIDADE  CACHOEIRO DE ITAPEMIRIM\n",
       "8   174846           0  UNIDADE  INSTITUTO ECOFUTURO  BERTIOGA\n",
       "9   174847           0                   UNIDADE  ITAPETININGA\n",
       "10  121887           0                         Unidade Aracruz\n",
       "11  123234           0          Unidade Cachoeirinha de Itaúna\n",
       "12   97738           0                       Unidade Imperatiz\n",
       "13  120313           0                         Unidade Jacareí\n",
       "14   99168           0                         Unidade Limeira\n",
       "15  121886           0                          Unidade Mucuri\n",
       "16  130399           0              Unidade Ribas do Rio Pardo\n",
       "17  120312           0                          Unidade Suzano\n",
       "18  121888           0                     Unidade Três Lagoas"
      ]
     },
     "execution_count": 14,
     "metadata": {},
     "output_type": "execute_result"
    }
   ],
   "source": [
    "ids = list()\n",
    "external_ids = list()\n",
    "names = list()\n",
    "\n",
    "values = y['Result']['Groups']\n",
    "\n",
    "for value in values:\n",
    "    ids.append(value['Id'])\n",
    "    external_ids.append(value['ExternalId'])\n",
    "    names.append(value['Name'])\n",
    "    \n",
    "vehicle_group = pd.DataFrame({'Id': ids, 'ExternalId':external_ids, 'Name': names})\n",
    "vehicle_group"
   ]
  },
  {
   "cell_type": "code",
   "execution_count": null,
   "id": "1809c6d5",
   "metadata": {},
   "outputs": [],
   "source": []
  }
 ],
 "metadata": {
  "kernelspec": {
   "display_name": "Python 3 (ipykernel)",
   "language": "python",
   "name": "python3"
  },
  "language_info": {
   "codemirror_mode": {
    "name": "ipython",
    "version": 3
   },
   "file_extension": ".py",
   "mimetype": "text/x-python",
   "name": "python",
   "nbconvert_exporter": "python",
   "pygments_lexer": "ipython3",
   "version": "3.9.13"
  }
 },
 "nbformat": 4,
 "nbformat_minor": 5
}
