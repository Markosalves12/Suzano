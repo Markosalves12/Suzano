{
 "cells": [
  {
   "cell_type": "code",
   "execution_count": 15,
   "id": "cd86fe2c",
   "metadata": {},
   "outputs": [],
   "source": [
    "import pandas as pd\n",
    "import os"
   ]
  },
  {
   "cell_type": "code",
   "execution_count": 16,
   "id": "b4153af9",
   "metadata": {},
   "outputs": [],
   "source": [
    "arquivos_rel_cc = r\"C:\\Users\\MarkosPereira.exc\\Downloads\\BIdopool\\ZGeral\\Relação CC\".replace(\"\\\\\",\"/\")"
   ]
  },
  {
   "cell_type": "code",
   "execution_count": 17,
   "id": "7064814a",
   "metadata": {},
   "outputs": [
    {
     "name": "stdout",
     "output_type": "stream",
     "text": [
      "Base CC Jacarei.xlsx\n",
      "Base CC Mucuri (2).xlsx\n",
      "Base CC Mucuri (3).xlsx\n",
      "Base CC Mucuri (5).xlsx\n",
      "Base CC Mucuri.xlsx\n"
     ]
    }
   ],
   "source": [
    "for raiz, diretorios, arquivos in os.walk(arquivos_rel_cc):\n",
    "    for arquivo in arquivos:\n",
    "        print(arquivo)"
   ]
  },
  {
   "cell_type": "code",
   "execution_count": 18,
   "id": "a2077e96",
   "metadata": {},
   "outputs": [],
   "source": [
    "#Transformando os arquivos em fata frames individuais e adicionando-os em uma lista\n",
    "df_arq_cap = list()\n",
    "for raiz, diretorios, arquivos in os.walk(arquivos_rel_cc):\n",
    "    for arquivo in arquivos:\n",
    "        caminho_completo = os.path.join(raiz, arquivo)\n",
    "        df = pd.read_excel(caminho_completo, engine='openpyxl', parse_dates=True)\n",
    "        df_arq_cap.append(df)"
   ]
  },
  {
   "cell_type": "code",
   "execution_count": 19,
   "id": "ef2b7c79",
   "metadata": {},
   "outputs": [
    {
     "data": {
      "text/html": [
       "<div>\n",
       "<style scoped>\n",
       "    .dataframe tbody tr th:only-of-type {\n",
       "        vertical-align: middle;\n",
       "    }\n",
       "\n",
       "    .dataframe tbody tr th {\n",
       "        vertical-align: top;\n",
       "    }\n",
       "\n",
       "    .dataframe thead th {\n",
       "        text-align: right;\n",
       "    }\n",
       "</style>\n",
       "<table border=\"1\" class=\"dataframe\">\n",
       "  <thead>\n",
       "    <tr style=\"text-align: right;\">\n",
       "      <th></th>\n",
       "      <th>CENTRO DE CUSTO</th>\n",
       "      <th>DESCRICAO CC</th>\n",
       "      <th>AREA</th>\n",
       "      <th>Gerência</th>\n",
       "      <th>RESPONSAVEL</th>\n",
       "    </tr>\n",
       "  </thead>\n",
       "  <tbody>\n",
       "    <tr>\n",
       "      <th>0</th>\n",
       "      <td>100001</td>\n",
       "      <td>CONSELHO</td>\n",
       "      <td>NaN</td>\n",
       "      <td>NaN</td>\n",
       "      <td>DAVID FEFFER</td>\n",
       "    </tr>\n",
       "    <tr>\n",
       "      <th>1</th>\n",
       "      <td>100002</td>\n",
       "      <td>PRESIDÊNCIA</td>\n",
       "      <td>ADM_COSPC</td>\n",
       "      <td>NaN</td>\n",
       "      <td>DAVID FEFFER</td>\n",
       "    </tr>\n",
       "    <tr>\n",
       "      <th>2</th>\n",
       "      <td>100003</td>\n",
       "      <td>SECRET. PRESIDÊNCIA</td>\n",
       "      <td>ADM_COSPC</td>\n",
       "      <td>NaN</td>\n",
       "      <td>DAVID FEFFER</td>\n",
       "    </tr>\n",
       "    <tr>\n",
       "      <th>3</th>\n",
       "      <td>100004</td>\n",
       "      <td>ASSISTÊNCIA DA PRESIDÊNCIA</td>\n",
       "      <td>INATIVO</td>\n",
       "      <td>NaN</td>\n",
       "      <td>DAVID FEFFER</td>\n",
       "    </tr>\n",
       "    <tr>\n",
       "      <th>4</th>\n",
       "      <td>100005</td>\n",
       "      <td>SERV.CONTAB.FISCAIS</td>\n",
       "      <td>INATIVO</td>\n",
       "      <td>NaN</td>\n",
       "      <td>DAVID FEFFER</td>\n",
       "    </tr>\n",
       "    <tr>\n",
       "      <th>5</th>\n",
       "      <td>100006</td>\n",
       "      <td>SERVIÇOS SRA. FANNY</td>\n",
       "      <td>INATIVO</td>\n",
       "      <td>NaN</td>\n",
       "      <td>DAVID FEFFER</td>\n",
       "    </tr>\n",
       "  </tbody>\n",
       "</table>\n",
       "</div>"
      ],
      "text/plain": [
       "  CENTRO DE CUSTO                DESCRICAO CC       AREA Gerência  \\\n",
       "0          100001                    CONSELHO        NaN      NaN   \n",
       "1          100002                 PRESIDÊNCIA  ADM_COSPC      NaN   \n",
       "2          100003         SECRET. PRESIDÊNCIA  ADM_COSPC      NaN   \n",
       "3          100004  ASSISTÊNCIA DA PRESIDÊNCIA    INATIVO      NaN   \n",
       "4          100005         SERV.CONTAB.FISCAIS    INATIVO      NaN   \n",
       "5          100006         SERVIÇOS SRA. FANNY    INATIVO      NaN   \n",
       "\n",
       "    RESPONSAVEL  \n",
       "0  DAVID FEFFER  \n",
       "1  DAVID FEFFER  \n",
       "2  DAVID FEFFER  \n",
       "3  DAVID FEFFER  \n",
       "4  DAVID FEFFER  \n",
       "5  DAVID FEFFER  "
      ]
     },
     "metadata": {},
     "output_type": "display_data"
    },
    {
     "data": {
      "text/html": [
       "<div>\n",
       "<style scoped>\n",
       "    .dataframe tbody tr th:only-of-type {\n",
       "        vertical-align: middle;\n",
       "    }\n",
       "\n",
       "    .dataframe tbody tr th {\n",
       "        vertical-align: top;\n",
       "    }\n",
       "\n",
       "    .dataframe thead th {\n",
       "        text-align: right;\n",
       "    }\n",
       "</style>\n",
       "<table border=\"1\" class=\"dataframe\">\n",
       "  <thead>\n",
       "    <tr style=\"text-align: right;\">\n",
       "      <th></th>\n",
       "      <th>CENTRO DE CUSTO</th>\n",
       "      <th>DESCRICAO CC</th>\n",
       "      <th>AREA</th>\n",
       "      <th>Gerência</th>\n",
       "      <th>RESPONSAVEL</th>\n",
       "    </tr>\n",
       "  </thead>\n",
       "  <tbody>\n",
       "    <tr>\n",
       "      <th>0</th>\n",
       "      <td>100001</td>\n",
       "      <td>CONSELHO</td>\n",
       "      <td>NaN</td>\n",
       "      <td>NaN</td>\n",
       "      <td>DAVID FEFFER</td>\n",
       "    </tr>\n",
       "    <tr>\n",
       "      <th>1</th>\n",
       "      <td>100002</td>\n",
       "      <td>PRESIDÊNCIA</td>\n",
       "      <td>ADM_COSPC</td>\n",
       "      <td>NaN</td>\n",
       "      <td>DAVID FEFFER</td>\n",
       "    </tr>\n",
       "    <tr>\n",
       "      <th>2</th>\n",
       "      <td>100003</td>\n",
       "      <td>SECRET. PRESIDÊNCIA</td>\n",
       "      <td>ADM_COSPC</td>\n",
       "      <td>NaN</td>\n",
       "      <td>DAVID FEFFER</td>\n",
       "    </tr>\n",
       "    <tr>\n",
       "      <th>3</th>\n",
       "      <td>100004</td>\n",
       "      <td>ASSISTÊNCIA DA PRESIDÊNCIA</td>\n",
       "      <td>INATIVO</td>\n",
       "      <td>NaN</td>\n",
       "      <td>DAVID FEFFER</td>\n",
       "    </tr>\n",
       "    <tr>\n",
       "      <th>4</th>\n",
       "      <td>100005</td>\n",
       "      <td>SERV.CONTAB.FISCAIS</td>\n",
       "      <td>INATIVO</td>\n",
       "      <td>NaN</td>\n",
       "      <td>DAVID FEFFER</td>\n",
       "    </tr>\n",
       "    <tr>\n",
       "      <th>5</th>\n",
       "      <td>100006</td>\n",
       "      <td>SERVIÇOS SRA. FANNY</td>\n",
       "      <td>INATIVO</td>\n",
       "      <td>NaN</td>\n",
       "      <td>DAVID FEFFER</td>\n",
       "    </tr>\n",
       "  </tbody>\n",
       "</table>\n",
       "</div>"
      ],
      "text/plain": [
       "  CENTRO DE CUSTO                DESCRICAO CC       AREA Gerência  \\\n",
       "0          100001                    CONSELHO        NaN      NaN   \n",
       "1          100002                 PRESIDÊNCIA  ADM_COSPC      NaN   \n",
       "2          100003         SECRET. PRESIDÊNCIA  ADM_COSPC      NaN   \n",
       "3          100004  ASSISTÊNCIA DA PRESIDÊNCIA    INATIVO      NaN   \n",
       "4          100005         SERV.CONTAB.FISCAIS    INATIVO      NaN   \n",
       "5          100006         SERVIÇOS SRA. FANNY    INATIVO      NaN   \n",
       "\n",
       "    RESPONSAVEL  \n",
       "0  DAVID FEFFER  \n",
       "1  DAVID FEFFER  \n",
       "2  DAVID FEFFER  \n",
       "3  DAVID FEFFER  \n",
       "4  DAVID FEFFER  \n",
       "5  DAVID FEFFER  "
      ]
     },
     "metadata": {},
     "output_type": "display_data"
    },
    {
     "data": {
      "text/html": [
       "<div>\n",
       "<style scoped>\n",
       "    .dataframe tbody tr th:only-of-type {\n",
       "        vertical-align: middle;\n",
       "    }\n",
       "\n",
       "    .dataframe tbody tr th {\n",
       "        vertical-align: top;\n",
       "    }\n",
       "\n",
       "    .dataframe thead th {\n",
       "        text-align: right;\n",
       "    }\n",
       "</style>\n",
       "<table border=\"1\" class=\"dataframe\">\n",
       "  <thead>\n",
       "    <tr style=\"text-align: right;\">\n",
       "      <th></th>\n",
       "      <th>CENTRO DE CUSTO</th>\n",
       "      <th>DESCRICAO CC</th>\n",
       "      <th>AREA</th>\n",
       "      <th>Gerência</th>\n",
       "      <th>RESPONSAVEL</th>\n",
       "    </tr>\n",
       "  </thead>\n",
       "  <tbody>\n",
       "    <tr>\n",
       "      <th>0</th>\n",
       "      <td>100001</td>\n",
       "      <td>CONSELHO</td>\n",
       "      <td>NaN</td>\n",
       "      <td>NaN</td>\n",
       "      <td>DAVID FEFFER</td>\n",
       "    </tr>\n",
       "    <tr>\n",
       "      <th>1</th>\n",
       "      <td>100002</td>\n",
       "      <td>PRESIDÊNCIA</td>\n",
       "      <td>ADM_COSPC</td>\n",
       "      <td>NaN</td>\n",
       "      <td>DAVID FEFFER</td>\n",
       "    </tr>\n",
       "    <tr>\n",
       "      <th>2</th>\n",
       "      <td>100003</td>\n",
       "      <td>SECRET. PRESIDÊNCIA</td>\n",
       "      <td>ADM_COSPC</td>\n",
       "      <td>NaN</td>\n",
       "      <td>DAVID FEFFER</td>\n",
       "    </tr>\n",
       "    <tr>\n",
       "      <th>3</th>\n",
       "      <td>100004</td>\n",
       "      <td>ASSISTÊNCIA DA PRESIDÊNCIA</td>\n",
       "      <td>INATIVO</td>\n",
       "      <td>NaN</td>\n",
       "      <td>DAVID FEFFER</td>\n",
       "    </tr>\n",
       "    <tr>\n",
       "      <th>4</th>\n",
       "      <td>100005</td>\n",
       "      <td>SERV.CONTAB.FISCAIS</td>\n",
       "      <td>INATIVO</td>\n",
       "      <td>NaN</td>\n",
       "      <td>DAVID FEFFER</td>\n",
       "    </tr>\n",
       "    <tr>\n",
       "      <th>5</th>\n",
       "      <td>100006</td>\n",
       "      <td>SERVIÇOS SRA. FANNY</td>\n",
       "      <td>INATIVO</td>\n",
       "      <td>NaN</td>\n",
       "      <td>DAVID FEFFER</td>\n",
       "    </tr>\n",
       "  </tbody>\n",
       "</table>\n",
       "</div>"
      ],
      "text/plain": [
       "  CENTRO DE CUSTO                DESCRICAO CC       AREA Gerência  \\\n",
       "0          100001                    CONSELHO        NaN      NaN   \n",
       "1          100002                 PRESIDÊNCIA  ADM_COSPC      NaN   \n",
       "2          100003         SECRET. PRESIDÊNCIA  ADM_COSPC      NaN   \n",
       "3          100004  ASSISTÊNCIA DA PRESIDÊNCIA    INATIVO      NaN   \n",
       "4          100005         SERV.CONTAB.FISCAIS    INATIVO      NaN   \n",
       "5          100006         SERVIÇOS SRA. FANNY    INATIVO      NaN   \n",
       "\n",
       "    RESPONSAVEL  \n",
       "0  DAVID FEFFER  \n",
       "1  DAVID FEFFER  \n",
       "2  DAVID FEFFER  \n",
       "3  DAVID FEFFER  \n",
       "4  DAVID FEFFER  \n",
       "5  DAVID FEFFER  "
      ]
     },
     "metadata": {},
     "output_type": "display_data"
    },
    {
     "data": {
      "text/html": [
       "<div>\n",
       "<style scoped>\n",
       "    .dataframe tbody tr th:only-of-type {\n",
       "        vertical-align: middle;\n",
       "    }\n",
       "\n",
       "    .dataframe tbody tr th {\n",
       "        vertical-align: top;\n",
       "    }\n",
       "\n",
       "    .dataframe thead th {\n",
       "        text-align: right;\n",
       "    }\n",
       "</style>\n",
       "<table border=\"1\" class=\"dataframe\">\n",
       "  <thead>\n",
       "    <tr style=\"text-align: right;\">\n",
       "      <th></th>\n",
       "      <th>CENTRO DE CUSTO</th>\n",
       "      <th>DESCRICAO CC</th>\n",
       "      <th>AREA</th>\n",
       "      <th>Gerência</th>\n",
       "      <th>RESPONSAVEL</th>\n",
       "    </tr>\n",
       "  </thead>\n",
       "  <tbody>\n",
       "    <tr>\n",
       "      <th>0</th>\n",
       "      <td>;3;0)</td>\n",
       "      <td>CONSELHO</td>\n",
       "      <td>NaN</td>\n",
       "      <td>NaN</td>\n",
       "      <td>DAVID FEFFER</td>\n",
       "    </tr>\n",
       "    <tr>\n",
       "      <th>1</th>\n",
       "      <td>100002</td>\n",
       "      <td>PRESIDÊNCIA</td>\n",
       "      <td>ADM_COSPC</td>\n",
       "      <td>NaN</td>\n",
       "      <td>DAVID FEFFER</td>\n",
       "    </tr>\n",
       "    <tr>\n",
       "      <th>2</th>\n",
       "      <td>100003</td>\n",
       "      <td>SECRET. PRESIDÊNCIA</td>\n",
       "      <td>ADM_COSPC</td>\n",
       "      <td>NaN</td>\n",
       "      <td>DAVID FEFFER</td>\n",
       "    </tr>\n",
       "    <tr>\n",
       "      <th>3</th>\n",
       "      <td>100004</td>\n",
       "      <td>ASSISTÊNCIA DA PRESIDÊNCIA</td>\n",
       "      <td>INATIVO</td>\n",
       "      <td>NaN</td>\n",
       "      <td>DAVID FEFFER</td>\n",
       "    </tr>\n",
       "    <tr>\n",
       "      <th>4</th>\n",
       "      <td>100005</td>\n",
       "      <td>SERV.CONTAB.FISCAIS</td>\n",
       "      <td>INATIVO</td>\n",
       "      <td>NaN</td>\n",
       "      <td>DAVID FEFFER</td>\n",
       "    </tr>\n",
       "    <tr>\n",
       "      <th>5</th>\n",
       "      <td>100006</td>\n",
       "      <td>SERVIÇOS SRA. FANNY</td>\n",
       "      <td>INATIVO</td>\n",
       "      <td>NaN</td>\n",
       "      <td>DAVID FEFFER</td>\n",
       "    </tr>\n",
       "  </tbody>\n",
       "</table>\n",
       "</div>"
      ],
      "text/plain": [
       "  CENTRO DE CUSTO                DESCRICAO CC       AREA Gerência  \\\n",
       "0           ;3;0)                    CONSELHO        NaN      NaN   \n",
       "1          100002                 PRESIDÊNCIA  ADM_COSPC      NaN   \n",
       "2          100003         SECRET. PRESIDÊNCIA  ADM_COSPC      NaN   \n",
       "3          100004  ASSISTÊNCIA DA PRESIDÊNCIA    INATIVO      NaN   \n",
       "4          100005         SERV.CONTAB.FISCAIS    INATIVO      NaN   \n",
       "5          100006         SERVIÇOS SRA. FANNY    INATIVO      NaN   \n",
       "\n",
       "    RESPONSAVEL  \n",
       "0  DAVID FEFFER  \n",
       "1  DAVID FEFFER  \n",
       "2  DAVID FEFFER  \n",
       "3  DAVID FEFFER  \n",
       "4  DAVID FEFFER  \n",
       "5  DAVID FEFFER  "
      ]
     },
     "metadata": {},
     "output_type": "display_data"
    },
    {
     "data": {
      "text/html": [
       "<div>\n",
       "<style scoped>\n",
       "    .dataframe tbody tr th:only-of-type {\n",
       "        vertical-align: middle;\n",
       "    }\n",
       "\n",
       "    .dataframe tbody tr th {\n",
       "        vertical-align: top;\n",
       "    }\n",
       "\n",
       "    .dataframe thead th {\n",
       "        text-align: right;\n",
       "    }\n",
       "</style>\n",
       "<table border=\"1\" class=\"dataframe\">\n",
       "  <thead>\n",
       "    <tr style=\"text-align: right;\">\n",
       "      <th></th>\n",
       "      <th>CENTRO DE CUSTO</th>\n",
       "      <th>DESCRICAO CC</th>\n",
       "      <th>AREA</th>\n",
       "      <th>Gerência</th>\n",
       "      <th>RESPONSAVEL</th>\n",
       "    </tr>\n",
       "  </thead>\n",
       "  <tbody>\n",
       "    <tr>\n",
       "      <th>0</th>\n",
       "      <td>100001</td>\n",
       "      <td>CONSELHO</td>\n",
       "      <td>ADM_COSPC</td>\n",
       "      <td>NaN</td>\n",
       "      <td>DAVID FEFFER</td>\n",
       "    </tr>\n",
       "    <tr>\n",
       "      <th>1</th>\n",
       "      <td>100002</td>\n",
       "      <td>PRESIDÊNCIA</td>\n",
       "      <td>ADM_COSPC</td>\n",
       "      <td>NaN</td>\n",
       "      <td>DAVID FEFFER</td>\n",
       "    </tr>\n",
       "    <tr>\n",
       "      <th>2</th>\n",
       "      <td>100003</td>\n",
       "      <td>SECRET. PRESIDÊNCIA</td>\n",
       "      <td>ADM_COSPC</td>\n",
       "      <td>NaN</td>\n",
       "      <td>DAVID FEFFER</td>\n",
       "    </tr>\n",
       "    <tr>\n",
       "      <th>3</th>\n",
       "      <td>100004</td>\n",
       "      <td>ASSISTÊNCIA DA PRESIDÊNCIA</td>\n",
       "      <td>INATIVO</td>\n",
       "      <td>NaN</td>\n",
       "      <td>DAVID FEFFER</td>\n",
       "    </tr>\n",
       "    <tr>\n",
       "      <th>4</th>\n",
       "      <td>100005</td>\n",
       "      <td>SERV.CONTAB.FISCAIS</td>\n",
       "      <td>INATIVO</td>\n",
       "      <td>NaN</td>\n",
       "      <td>DAVID FEFFER</td>\n",
       "    </tr>\n",
       "    <tr>\n",
       "      <th>5</th>\n",
       "      <td>100006</td>\n",
       "      <td>SERVIÇOS SRA. FANNY</td>\n",
       "      <td>INATIVO</td>\n",
       "      <td>NaN</td>\n",
       "      <td>DAVID FEFFER</td>\n",
       "    </tr>\n",
       "  </tbody>\n",
       "</table>\n",
       "</div>"
      ],
      "text/plain": [
       "  CENTRO DE CUSTO                DESCRICAO CC       AREA Gerência  \\\n",
       "0          100001                    CONSELHO  ADM_COSPC      NaN   \n",
       "1          100002                 PRESIDÊNCIA  ADM_COSPC      NaN   \n",
       "2          100003         SECRET. PRESIDÊNCIA  ADM_COSPC      NaN   \n",
       "3          100004  ASSISTÊNCIA DA PRESIDÊNCIA    INATIVO      NaN   \n",
       "4          100005         SERV.CONTAB.FISCAIS    INATIVO      NaN   \n",
       "5          100006         SERVIÇOS SRA. FANNY    INATIVO      NaN   \n",
       "\n",
       "    RESPONSAVEL  \n",
       "0  DAVID FEFFER  \n",
       "1  DAVID FEFFER  \n",
       "2  DAVID FEFFER  \n",
       "3  DAVID FEFFER  \n",
       "4  DAVID FEFFER  \n",
       "5  DAVID FEFFER  "
      ]
     },
     "metadata": {},
     "output_type": "display_data"
    }
   ],
   "source": [
    "for dataframe in df_arq_cap:\n",
    "    display(dataframe.head(6))"
   ]
  },
  {
   "cell_type": "code",
   "execution_count": 20,
   "id": "c96befa6",
   "metadata": {},
   "outputs": [
    {
     "name": "stdout",
     "output_type": "stream",
     "text": [
      "Index(['CENTRO DE CUSTO', 'DESCRICAO CC', 'AREA', 'Gerência', 'RESPONSAVEL'], dtype='object')\n",
      "Index(['CENTRO DE CUSTO', 'DESCRICAO CC', 'AREA', 'Gerência', 'RESPONSAVEL'], dtype='object')\n",
      "Index(['CENTRO DE CUSTO', 'DESCRICAO CC', 'AREA', 'Gerência', 'RESPONSAVEL'], dtype='object')\n",
      "Index(['CENTRO DE CUSTO', 'DESCRICAO CC', 'AREA', 'Gerência', 'RESPONSAVEL'], dtype='object')\n",
      "Index(['CENTRO DE CUSTO', 'DESCRICAO CC', 'AREA', 'Gerência', 'RESPONSAVEL'], dtype='object')\n"
     ]
    }
   ],
   "source": [
    "for dataframe in df_arq_cap:\n",
    "    print(dataframe.columns)"
   ]
  },
  {
   "cell_type": "code",
   "execution_count": 21,
   "id": "9be62876",
   "metadata": {},
   "outputs": [],
   "source": [
    "data_frame_cap = pd.concat(df_arq_cap)"
   ]
  },
  {
   "cell_type": "code",
   "execution_count": 22,
   "id": "6bebadb0",
   "metadata": {},
   "outputs": [
    {
     "data": {
      "text/plain": [
       "(589265, 5)"
      ]
     },
     "execution_count": 22,
     "metadata": {},
     "output_type": "execute_result"
    }
   ],
   "source": [
    "data_frame_cap.shape"
   ]
  },
  {
   "cell_type": "code",
   "execution_count": 23,
   "id": "2e00e11a",
   "metadata": {},
   "outputs": [],
   "source": [
    "data_frame_cap = data_frame_cap.drop_duplicates(subset='CENTRO DE CUSTO', keep='first')"
   ]
  },
  {
   "cell_type": "code",
   "execution_count": 24,
   "id": "34158cd0",
   "metadata": {},
   "outputs": [
    {
     "data": {
      "text/plain": [
       "(117854, 5)"
      ]
     },
     "execution_count": 24,
     "metadata": {},
     "output_type": "execute_result"
    }
   ],
   "source": [
    "data_frame_cap.shape"
   ]
  },
  {
   "cell_type": "markdown",
   "id": "f2b6b9ef",
   "metadata": {},
   "source": [
    "## Transformação CC"
   ]
  },
  {
   "cell_type": "code",
   "execution_count": 25,
   "id": "4250ac03",
   "metadata": {},
   "outputs": [],
   "source": [
    "data_frame_cap['CENTRO DE CUSTO'] = data_frame_cap['CENTRO DE CUSTO'].str.upper()\n",
    "data_frame_cap['CENTRO DE CUSTO'] = data_frame_cap['CENTRO DE CUSTO'].str.strip()"
   ]
  },
  {
   "cell_type": "markdown",
   "id": "b568b7e1",
   "metadata": {},
   "source": [
    "## Transformação descrição CC"
   ]
  },
  {
   "cell_type": "code",
   "execution_count": 26,
   "id": "09877811",
   "metadata": {},
   "outputs": [],
   "source": [
    "data_frame_cap['DESCRICAO CC'] = data_frame_cap['DESCRICAO CC'].str.upper()\n",
    "data_frame_cap['DESCRICAO CC'] = data_frame_cap['DESCRICAO CC'].str.strip()"
   ]
  },
  {
   "cell_type": "code",
   "execution_count": 27,
   "id": "3ce2fbdb",
   "metadata": {},
   "outputs": [
    {
     "data": {
      "text/plain": [
       "array(['CONSELHO', 'PRESIDÊNCIA', 'SECRET. PRESIDÊNCIA', ..., 'VIL048',\n",
       "       'VIL049', 'WRO004'], dtype=object)"
      ]
     },
     "execution_count": 27,
     "metadata": {},
     "output_type": "execute_result"
    }
   ],
   "source": [
    "data_frame_cap['DESCRICAO CC'].unique()"
   ]
  },
  {
   "cell_type": "code",
   "execution_count": null,
   "id": "b5d82f7b",
   "metadata": {},
   "outputs": [],
   "source": []
  },
  {
   "cell_type": "code",
   "execution_count": null,
   "id": "8157f0c1",
   "metadata": {},
   "outputs": [],
   "source": []
  },
  {
   "cell_type": "code",
   "execution_count": null,
   "id": "1d0a3940",
   "metadata": {},
   "outputs": [],
   "source": []
  },
  {
   "cell_type": "code",
   "execution_count": null,
   "id": "fb8115d3",
   "metadata": {},
   "outputs": [],
   "source": []
  },
  {
   "cell_type": "code",
   "execution_count": null,
   "id": "c6c60350",
   "metadata": {},
   "outputs": [],
   "source": []
  },
  {
   "cell_type": "code",
   "execution_count": 28,
   "id": "d25fa6b7",
   "metadata": {},
   "outputs": [],
   "source": [
    "# salvando o arquivo combinado no local correto\n",
    "# C:\\Users\\MarkosPereira.exc\\OneDrive - Suzano S A\\Área de Trabalho\\pool Mucuri\\totalccs.xlsx\n",
    "destino = r\"C:\\Users\\MarkosPereira.exc\\Suzano S A\\mobilidade taxi\\totalccs.xlsx\".replace(\"\\\\\",\"/\")\n",
    "data_frame_cap.to_excel(destino)"
   ]
  },
  {
   "cell_type": "code",
   "execution_count": null,
   "id": "fc42b5c2",
   "metadata": {},
   "outputs": [],
   "source": []
  }
 ],
 "metadata": {
  "kernelspec": {
   "display_name": "Python 3 (ipykernel)",
   "language": "python",
   "name": "python3"
  },
  "language_info": {
   "codemirror_mode": {
    "name": "ipython",
    "version": 3
   },
   "file_extension": ".py",
   "mimetype": "text/x-python",
   "name": "python",
   "nbconvert_exporter": "python",
   "pygments_lexer": "ipython3",
   "version": "3.9.13"
  }
 },
 "nbformat": 4,
 "nbformat_minor": 5
}
