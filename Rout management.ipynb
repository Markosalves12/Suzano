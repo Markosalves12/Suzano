{
 "cells": [
  {
   "cell_type": "code",
   "execution_count": 17,
   "id": "e7dd13d1",
   "metadata": {},
   "outputs": [],
   "source": [
    "import json\n",
    "import requests\n",
    "import pandas as pd"
   ]
  },
  {
   "cell_type": "code",
   "execution_count": 18,
   "id": "6977050c",
   "metadata": {},
   "outputs": [],
   "source": [
    "params = {\n",
    "    'login': 'ionesantos',\n",
    "    'senha': '2022Power'\n",
    "}"
   ]
  },
  {
   "cell_type": "code",
   "execution_count": 19,
   "id": "4b947365",
   "metadata": {},
   "outputs": [
    {
     "name": "stderr",
     "output_type": "stream",
     "text": [
      "C:\\Users\\MarkosPereira.exc\\Anaconda3\\lib\\site-packages\\urllib3\\connectionpool.py:1045: InsecureRequestWarning: Unverified HTTPS request is being made to host 'webfleet.pointerbrasil.com.br'. Adding certificate verification is strongly advised. See: https://urllib3.readthedocs.io/en/1.26.x/advanced-usage.html#ssl-warnings\n",
      "  warnings.warn(\n"
     ]
    },
    {
     "name": "stdout",
     "output_type": "stream",
     "text": [
      "{'Version': '1.0.61.0', 'StatusCode': 200, 'Result': {'Token': '56234585620000046'}}\n"
     ]
    }
   ],
   "source": [
    "url = f\"https://webfleet.pointerbrasil.com.br/FleetAPI/api/Login/Get?username={params['login']}&password={params['senha']}\"\n",
    "\n",
    "\n",
    "x = requests.get(url, verify=False)\n",
    "# print(x.headers)\n",
    "y = x.json()\n",
    "print(y)\n",
    "# print(url)"
   ]
  },
  {
   "cell_type": "code",
   "execution_count": 20,
   "id": "b1aa4015",
   "metadata": {},
   "outputs": [
    {
     "name": "stdout",
     "output_type": "stream",
     "text": [
      "56234585620000046\n"
     ]
    }
   ],
   "source": [
    "token = y['Result']['Token']\n",
    "print(token)"
   ]
  },
  {
   "cell_type": "code",
   "execution_count": null,
   "id": "e3e56559",
   "metadata": {},
   "outputs": [],
   "source": []
  },
  {
   "cell_type": "code",
   "execution_count": 24,
   "id": "c009a552",
   "metadata": {},
   "outputs": [
    {
     "name": "stderr",
     "output_type": "stream",
     "text": [
      "C:\\Users\\MarkosPereira.exc\\Anaconda3\\lib\\site-packages\\urllib3\\connectionpool.py:1045: InsecureRequestWarning: Unverified HTTPS request is being made to host 'webfleet.pointerbrasil.com.br'. Adding certificate verification is strongly advised. See: https://urllib3.readthedocs.io/en/1.26.x/advanced-usage.html#ssl-warnings\n",
      "  warnings.warn(\n"
     ]
    },
    {
     "name": "stdout",
     "output_type": "stream",
     "text": [
      "{'Server': 'rhino-core-shield', 'Date': 'Thu, 28 Sep 2023 13:20:58 GMT', 'Content-Type': 'application/json; charset=utf-8', 'Cache-Control': 'no-cache', 'Pragma': 'no-cache', 'Expires': '-1', 'Set-Cookie': 'ASP.NET_SessionId=2pma0qxxgxtzbgrm5xje0pvg; path=/; HttpOnly; SameSite=Lax, GCLB=CPGg-6_Pm4H8jwE; path=/; HttpOnly', 'X-AspNet-Version': '4.0.30319', 'X-Powered-By': 'ASP.NET', 'Via': '1.1 google', 'Alt-Svc': 'clear', 'Content-Length': '201'}\n",
      "https://webfleet.pointerbrasil.com.br/FleetAPI/api/360/Vehicles?key=56234585620000046\n",
      "{'Version': '1.0.61.0', 'StatusCode': 404, 'ErrorMessage': \"No HTTP resource was found that matches the request URI 'https://webfleet.pointerbrasil.com.br/FleetAPI/api/360/Vehicles?key=56234585620000046'.\"}\n"
     ]
    }
   ],
   "source": [
    "url = f\"https://webfleet.pointerbrasil.com.br/FleetAPI/api/360/Vehicles?key={token}\"\n",
    "\n",
    "x = requests.get(url, verify=False)\n",
    "print(x.headers)\n",
    "print(url)\n",
    "y = x.json()\n",
    "print(y)"
   ]
  },
  {
   "cell_type": "code",
   "execution_count": null,
   "id": "33d6a666",
   "metadata": {},
   "outputs": [],
   "source": []
  }
 ],
 "metadata": {
  "kernelspec": {
   "display_name": "Python 3 (ipykernel)",
   "language": "python",
   "name": "python3"
  },
  "language_info": {
   "codemirror_mode": {
    "name": "ipython",
    "version": 3
   },
   "file_extension": ".py",
   "mimetype": "text/x-python",
   "name": "python",
   "nbconvert_exporter": "python",
   "pygments_lexer": "ipython3",
   "version": "3.9.13"
  }
 },
 "nbformat": 4,
 "nbformat_minor": 5
}
